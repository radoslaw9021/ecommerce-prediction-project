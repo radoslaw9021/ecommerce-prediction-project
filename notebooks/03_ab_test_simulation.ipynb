{
 "cells": [
  {
   "cell_type": "markdown",
   "id": "67599ed6",
   "metadata": {},
   "source": [
    "# Symulacja testu A/B: wpływ kampanii rabatowej\n",
    "W tym notebooku przeprowadzamy symulację testu A/B, aby sprawdzić wpływ kampanii promocyjnej na wartość koszyka zakupowego klientów."
   ]
  },
  {
   "cell_type": "code",
   "execution_count": null,
   "id": "b4deb28d",
   "metadata": {},
   "outputs": [],
   "source": [
    "import numpy as np\n",
    "import pandas as pd\n",
    "import matplotlib.pyplot as plt\n",
    "from scipy.stats import ttest_ind"
   ]
  },
  {
   "cell_type": "markdown",
   "id": "e99e9308",
   "metadata": {},
   "source": [
    "## 1. Generowanie danych\n",
    "Symulujemy dwie grupy klientów:\n",
    "- **Grupa A** – nie otrzymała rabatu\n",
    "- **Grupa B** – otrzymała 10% zniżki"
   ]
  },
  {
   "cell_type": "code",
   "execution_count": null,
   "id": "25639c66",
   "metadata": {},
   "outputs": [],
   "source": [
    "# Ustawiamy losowość\n",
    "np.random.seed(42)\n",
    "\n",
    "# Grupa A: rozkład normalny wokół 100\n",
    "n = 200\n",
    "a = np.random.normal(loc=100, scale=15, size=n)\n",
    "\n",
    "# Grupa B: wyższa średnia (np. 110)\n",
    "b = np.random.normal(loc=110, scale=15, size=n)"
   ]
  },
  {
   "cell_type": "markdown",
   "id": "59f66db2",
   "metadata": {},
   "source": [
    "## 2. Wizualizacja wyników\n",
    "Porównujemy rozkład wartości zakupów w obu grupach."
   ]
  },
  {
   "cell_type": "code",
   "execution_count": null,
   "id": "bcfb6e28",
   "metadata": {},
   "outputs": [],
   "source": [
    "plt.figure(figsize=(10,5))\n",
    "plt.hist(a, bins=30, alpha=0.7, label='Grupa A')\n",
    "plt.hist(b, bins=30, alpha=0.7, label='Grupa B')\n",
    "plt.axvline(a.mean(), color='blue', linestyle='dashed', linewidth=1)\n",
    "plt.axvline(b.mean(), color='orange', linestyle='dashed', linewidth=1)\n",
    "plt.legend()\n",
    "plt.title('Porównanie rozkładów zakupów - Grupa A vs B')\n",
    "plt.xlabel('Wartość zakupów')\n",
    "plt.ylabel('Liczba klientów')\n",
    "plt.show()"
   ]
  },
  {
   "cell_type": "markdown",
   "id": "d991f995",
   "metadata": {},
   "source": [
    "## 3. Test statystyczny (t-test)\n",
    "Sprawdzamy, czy różnice pomiędzy grupami są statystycznie istotne."
   ]
  },
  {
   "cell_type": "code",
   "execution_count": null,
   "id": "a7f28084",
   "metadata": {},
   "outputs": [],
   "source": [
    "stat, p = ttest_ind(b, a)\n",
    "print(f'Wartość statystyki t: {stat:.2f}')\n",
    "print(f'Wartość p: {p:.4f}')\n",
    "\n",
    "if p < 0.05:\n",
    "    print('✅ Różnica jest statystycznie istotna (p < 0.05)')\n",
    "else:\n",
    "    print('❌ Brak istotnej różnicy (p ≥ 0.05)')"
   ]
  }
 ],
 "metadata": {},
 "nbformat": 4,
 "nbformat_minor": 5
}
